{
  "nbformat": 4,
  "nbformat_minor": 0,
  "metadata": {
    "colab": {
      "provenance": [],
      "authorship_tag": "ABX9TyMMIghZ0kdUeJ0nZKxudkc1",
      "include_colab_link": true
    },
    "kernelspec": {
      "name": "python3",
      "display_name": "Python 3"
    },
    "language_info": {
      "name": "python"
    }
  },
  "cells": [
    {
      "cell_type": "markdown",
      "metadata": {
        "id": "view-in-github",
        "colab_type": "text"
      },
      "source": [
        "<a href=\"https://colab.research.google.com/github/FaiquaNaeem/case_study3/blob/main/Untitled9.ipynb\" target=\"_parent\"><img src=\"https://colab.research.google.com/assets/colab-badge.svg\" alt=\"Open In Colab\"/></a>"
      ]
    },
    {
      "cell_type": "code",
      "execution_count": 2,
      "metadata": {
        "colab": {
          "base_uri": "https://localhost:8080/",
          "height": 0
        },
        "id": "eHgwNpVJNlEF",
        "outputId": "f2f6b921-cbcc-4fe9-df7c-4b2766b86d6e"
      },
      "outputs": [
        {
          "name": "stdout",
          "output_type": "stream",
          "text": [
            "Current Temperature: 441.58°C\n",
            "ALERT! Temperature is too high!\n",
            "To stop, click S: k\n",
            "Current Temperature: 918.40°C\n",
            "ALERT! Temperature is too high!\n",
            "To stop, click S: h\n",
            "Current Temperature: 473.77°C\n",
            "ALERT! Temperature is too high!\n",
            "To stop, click S: S\n"
          ]
        }
      ],
      "source": [
        "#write a program to monitor temperature and provide alert. Use \"random\" library to generate random temperature also define lower and upper limit\n",
        "import random\n",
        "import time\n",
        "def monitor_temperature(lower_limit, upper_limit):\n",
        "    while True:\n",
        "        temperature = random.uniform(-1,1000)\n",
        "        print(\"Current Temperature: %.2f°C\"%temperature)\n",
        "        if temperature < lower_limit:\n",
        "            print(\"ALERT! Temperature is too low!\")\n",
        "        elif temperature > upper_limit:\n",
        "            print(\"ALERT! Temperature is too high!\")\n",
        "        ans = str(input(\"To stop, click S: \"))\n",
        "        time.sleep(1)\n",
        "        if (ans == \"S\"):\n",
        "          break\n",
        "lower_limit = 25\n",
        "upper_limit = 35\n",
        "monitor_temperature(lower_limit, upper_limit)\n",
        "\n",
        "\n",
        "\n"
      ]
    }
  ]
}